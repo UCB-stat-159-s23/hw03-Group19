{
 "cells": [
  {
   "cell_type": "markdown",
   "id": "98437fb8-2b92-4c9d-b09b-450804919312",
   "metadata": {
    "user_expressions": []
   },
   "source": [
    "# Question 2"
   ]
  },
  {
   "cell_type": "code",
   "execution_count": 1,
   "id": "02a0c03b-f299-45ef-a068-ac81e2a7619b",
   "metadata": {},
   "outputs": [],
   "source": [
    "import matplotlib.pyplot as plt\n",
    "import numpy as np\n",
    "import pandas as pd\n",
    "import seaborn as sns\n",
    "import os\n",
    "\n",
    "from pathlib import Path\n",
    "\n",
    "# Small style adjustments for more readable plots\n",
    "plt.style.use(\"seaborn-whitegrid\")\n",
    "plt.rcParams[\"figure.figsize\"] = (8, 6)\n",
    "plt.rcParams[\"font.size\"] = 14"
   ]
  },
  {
   "cell_type": "code",
   "execution_count": 2,
   "id": "be9890cc-a0c2-4c7f-bd7a-ee10d0c425eb",
   "metadata": {},
   "outputs": [],
   "source": [
    "DATA_DIR = Path.home()/Path('shared/climate-data')\n",
    "co2_file = DATA_DIR / \"monthly_in_situ_co2_mlo_cleaned.csv\"\n",
    "data = pd.read_csv(co2_file, na_values=-99.99).dropna()\n"
   ]
  },
  {
   "cell_type": "code",
   "execution_count": 3,
   "id": "14b0b182-90fd-45b0-9f78-129ebdee67f0",
   "metadata": {},
   "outputs": [
    {
     "data": {
      "text/html": [
       "<div>\n",
       "<style scoped>\n",
       "    .dataframe tbody tr th:only-of-type {\n",
       "        vertical-align: middle;\n",
       "    }\n",
       "\n",
       "    .dataframe tbody tr th {\n",
       "        vertical-align: top;\n",
       "    }\n",
       "\n",
       "    .dataframe thead th {\n",
       "        text-align: right;\n",
       "    }\n",
       "</style>\n",
       "<table border=\"1\" class=\"dataframe\">\n",
       "  <thead>\n",
       "    <tr style=\"text-align: right;\">\n",
       "      <th></th>\n",
       "      <th>c02</th>\n",
       "    </tr>\n",
       "    <tr>\n",
       "      <th>month</th>\n",
       "      <th></th>\n",
       "    </tr>\n",
       "  </thead>\n",
       "  <tbody>\n",
       "    <tr>\n",
       "      <th>1</th>\n",
       "      <td>-0.683835</td>\n",
       "    </tr>\n",
       "    <tr>\n",
       "      <th>2</th>\n",
       "      <td>0.076121</td>\n",
       "    </tr>\n",
       "    <tr>\n",
       "      <th>3</th>\n",
       "      <td>0.874238</td>\n",
       "    </tr>\n",
       "    <tr>\n",
       "      <th>4</th>\n",
       "      <td>2.240270</td>\n",
       "    </tr>\n",
       "    <tr>\n",
       "      <th>5</th>\n",
       "      <td>2.864155</td>\n",
       "    </tr>\n",
       "    <tr>\n",
       "      <th>6</th>\n",
       "      <td>2.299297</td>\n",
       "    </tr>\n",
       "    <tr>\n",
       "      <th>7</th>\n",
       "      <td>0.792919</td>\n",
       "    </tr>\n",
       "    <tr>\n",
       "      <th>8</th>\n",
       "      <td>-1.195018</td>\n",
       "    </tr>\n",
       "    <tr>\n",
       "      <th>9</th>\n",
       "      <td>-2.851367</td>\n",
       "    </tr>\n",
       "    <tr>\n",
       "      <th>10</th>\n",
       "      <td>-2.857316</td>\n",
       "    </tr>\n",
       "    <tr>\n",
       "      <th>11</th>\n",
       "      <td>-1.453272</td>\n",
       "    </tr>\n",
       "    <tr>\n",
       "      <th>12</th>\n",
       "      <td>-0.159303</td>\n",
       "    </tr>\n",
       "  </tbody>\n",
       "</table>\n",
       "</div>"
      ],
      "text/plain": [
       "            c02\n",
       "month          \n",
       "1     -0.683835\n",
       "2      0.076121\n",
       "3      0.874238\n",
       "4      2.240270\n",
       "5      2.864155\n",
       "6      2.299297\n",
       "7      0.792919\n",
       "8     -1.195018\n",
       "9     -2.851367\n",
       "10    -2.857316\n",
       "11    -1.453272\n",
       "12    -0.159303"
      ]
     },
     "execution_count": 3,
     "metadata": {},
     "output_type": "execute_result"
    }
   ],
   "source": [
    "def detrend(f):\n",
    "    detrended_xarr = f.loc[:,[\"month\", \"c02\"]]\n",
    "    # BEGIN SOLUTION\n",
    "    detrended_xarr[\"c02\"] = detrended_xarr[\"c02\"] - detrended_xarr[\"c02\"].mean()\n",
    "    # END SOLUTION\n",
    "    return detrended_xarr\n",
    "\n",
    "dy = data.groupby('year', group_keys=True)\n",
    "c02anomaly = dy.apply(detrend)\n",
    "# display(c02anomaly)\n",
    "monthly_anomaly = c02anomaly.groupby('month').mean()[['c02']]\n",
    "monthly_anomaly"
   ]
  },
  {
   "cell_type": "code",
   "execution_count": 4,
   "id": "0b7ff7de-f459-45d4-a117-a74a0ed94a4c",
   "metadata": {},
   "outputs": [],
   "source": [
    "assert list(monthly_anomaly['c02']) == [-0.6838350970017644, 0.07612096774193428, 0.8742380952380925,\n",
    "                                        2.240269841269833, 2.8641545138888853, 2.299296594982075, \n",
    "                                        0.792918871252205, -1.1950176366843068, -2.851366843033514, \n",
    "                                       -2.8573163082437323, -1.453271604938272, -0.15930335097002282]"
   ]
  },
  {
   "cell_type": "code",
   "execution_count": null,
   "id": "17c8456f-ef28-4613-9cc9-4c46a4111e23",
   "metadata": {},
   "outputs": [],
   "source": []
  }
 ],
 "metadata": {
  "kernelspec": {
   "display_name": "Python 3 (ipykernel)",
   "language": "python",
   "name": "python3"
  },
  "language_info": {
   "codemirror_mode": {
    "name": "ipython",
    "version": 3
   },
   "file_extension": ".py",
   "mimetype": "text/x-python",
   "name": "python",
   "nbconvert_exporter": "python",
   "pygments_lexer": "ipython3",
   "version": "3.10.8"
  }
 },
 "nbformat": 4,
 "nbformat_minor": 5
}
